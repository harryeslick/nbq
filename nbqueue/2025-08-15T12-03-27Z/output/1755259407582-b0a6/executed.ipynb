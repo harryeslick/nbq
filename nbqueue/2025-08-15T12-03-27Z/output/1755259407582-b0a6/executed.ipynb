{
 "cells": [
  {
   "cell_type": "markdown",
   "id": "ce4fda30",
   "metadata": {
    "papermill": {
     "duration": 0.000982,
     "end_time": "2025-08-15T12:03:30.928843",
     "exception": false,
     "start_time": "2025-08-15T12:03:30.927861",
     "status": "completed"
    },
    "tags": []
   },
   "source": [
    "Demo percent-style notebook for nbq"
   ]
  },
  {
   "cell_type": "code",
   "execution_count": 1,
   "id": "bc29113e",
   "metadata": {
    "execution": {
     "iopub.execute_input": "2025-08-15T12:03:30.931495Z",
     "iopub.status.busy": "2025-08-15T12:03:30.931347Z",
     "iopub.status.idle": "2025-08-15T12:03:32.445132Z",
     "shell.execute_reply": "2025-08-15T12:03:32.444805Z"
    },
    "papermill": {
     "duration": 1.516114,
     "end_time": "2025-08-15T12:03:32.446435",
     "exception": false,
     "start_time": "2025-08-15T12:03:30.930321",
     "status": "completed"
    },
    "tags": []
   },
   "outputs": [
    {
     "name": "stdout",
     "output_type": "stream",
     "text": [
      "demo.py: start\n",
      "step 1/3\n"
     ]
    },
    {
     "name": "stdout",
     "output_type": "stream",
     "text": [
      "step 2/3\n"
     ]
    },
    {
     "name": "stdout",
     "output_type": "stream",
     "text": [
      "step 3/3\n"
     ]
    },
    {
     "name": "stdout",
     "output_type": "stream",
     "text": [
      "demo.py: done\n"
     ]
    }
   ],
   "source": [
    "import time\n",
    "\n",
    "print(\"demo.py: start\")\n",
    "for i in range(3):\n",
    "    print(f\"step {i+1}/3\")\n",
    "    time.sleep(0.5)\n",
    "print(\"demo.py: done\")"
   ]
  }
 ],
 "metadata": {
  "jupytext": {
   "cell_metadata_filter": "-all",
   "main_language": "python",
   "notebook_metadata_filter": "-all",
   "text_representation": {
    "extension": ".py",
    "format_name": "percent"
   }
  },
  "language_info": {
   "codemirror_mode": {
    "name": "ipython",
    "version": 3
   },
   "file_extension": ".py",
   "mimetype": "text/x-python",
   "name": "python",
   "nbconvert_exporter": "python",
   "pygments_lexer": "ipython3",
   "version": "3.13.1"
  },
  "papermill": {
   "default_parameters": {},
   "duration": 4.437071,
   "end_time": "2025-08-15T12:03:32.663464",
   "environment_variables": {},
   "exception": null,
   "input_path": "/Users/hfsi/Developer/nbq/nbqueue/2025-08-15T12-03-27Z/output/1755259407582-b0a6/input.ipynb",
   "output_path": "/Users/hfsi/Developer/nbq/nbqueue/2025-08-15T12-03-27Z/output/1755259407582-b0a6/executed.ipynb",
   "parameters": {},
   "start_time": "2025-08-15T12:03:28.226393",
   "version": "2.6.0"
  }
 },
 "nbformat": 4,
 "nbformat_minor": 5
}