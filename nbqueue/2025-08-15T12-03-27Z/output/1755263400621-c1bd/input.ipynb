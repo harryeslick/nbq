{
 "cells": [
  {
   "cell_type": "markdown",
   "id": "fd16a26f",
   "metadata": {},
   "source": [
    "Demo percent-style notebook for nbq"
   ]
  },
  {
   "cell_type": "code",
   "execution_count": null,
   "id": "a2078708",
   "metadata": {},
   "outputs": [],
   "source": [
    "import time\n",
    "\n",
    "print(\"demo.py: start\")\n",
    "for i in range(3):\n",
    "    print(f\"step {i+1}/3\")\n",
    "    time.sleep(0.5)\n",
    "print(\"demo.py: done\")"
   ]
  }
 ],
 "metadata": {
  "jupytext": {
   "cell_metadata_filter": "-all",
   "main_language": "python",
   "notebook_metadata_filter": "-all",
   "text_representation": {
    "extension": ".py",
    "format_name": "percent"
   }
  }
 },
 "nbformat": 4,
 "nbformat_minor": 5
}
