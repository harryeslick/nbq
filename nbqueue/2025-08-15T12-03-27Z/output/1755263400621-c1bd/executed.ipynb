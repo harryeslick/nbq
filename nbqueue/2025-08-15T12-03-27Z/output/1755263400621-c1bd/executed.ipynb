{
 "cells": [
  {
   "cell_type": "markdown",
   "id": "fd16a26f",
   "metadata": {
    "papermill": {
     "duration": 0.004127,
     "end_time": "2025-08-15T13:10:01.741108",
     "exception": false,
     "start_time": "2025-08-15T13:10:01.736981",
     "status": "completed"
    },
    "tags": []
   },
   "source": [
    "Demo percent-style notebook for nbq"
   ]
  },
  {
   "cell_type": "code",
   "execution_count": 1,
   "id": "a2078708",
   "metadata": {
    "execution": {
     "iopub.execute_input": "2025-08-15T13:10:01.746209Z",
     "iopub.status.busy": "2025-08-15T13:10:01.745926Z",
     "iopub.status.idle": "2025-08-15T13:10:03.263111Z",
     "shell.execute_reply": "2025-08-15T13:10:03.262465Z"
    },
    "papermill": {
     "duration": 1.521988,
     "end_time": "2025-08-15T13:10:03.265141",
     "exception": false,
     "start_time": "2025-08-15T13:10:01.743153",
     "status": "completed"
    },
    "tags": []
   },
   "outputs": [
    {
     "name": "stdout",
     "output_type": "stream",
     "text": [
      "demo.py: start\n",
      "step 1/3\n"
     ]
    },
    {
     "name": "stdout",
     "output_type": "stream",
     "text": [
      "step 2/3\n"
     ]
    },
    {
     "name": "stdout",
     "output_type": "stream",
     "text": [
      "step 3/3\n"
     ]
    },
    {
     "name": "stdout",
     "output_type": "stream",
     "text": [
      "demo.py: done\n"
     ]
    }
   ],
   "source": [
    "import time\n",
    "\n",
    "print(\"demo.py: start\")\n",
    "for i in range(3):\n",
    "    print(f\"step {i+1}/3\")\n",
    "    time.sleep(0.5)\n",
    "print(\"demo.py: done\")"
   ]
  }
 ],
 "metadata": {
  "jupytext": {
   "cell_metadata_filter": "-all",
   "main_language": "python",
   "notebook_metadata_filter": "-all",
   "text_representation": {
    "extension": ".py",
    "format_name": "percent"
   }
  },
  "language_info": {
   "codemirror_mode": {
    "name": "ipython",
    "version": 3
   },
   "file_extension": ".py",
   "mimetype": "text/x-python",
   "name": "python",
   "nbconvert_exporter": "python",
   "pygments_lexer": "ipython3",
   "version": "3.13.1"
  },
  "papermill": {
   "default_parameters": {},
   "duration": 2.650915,
   "end_time": "2025-08-15T13:10:03.484882",
   "environment_variables": {},
   "exception": null,
   "input_path": "/Users/hfsi/Developer/nbq/nbqueue/2025-08-15T12-03-27Z/output/1755263400621-c1bd/input.ipynb",
   "output_path": "/Users/hfsi/Developer/nbq/nbqueue/2025-08-15T12-03-27Z/output/1755263400621-c1bd/executed.ipynb",
   "parameters": {},
   "start_time": "2025-08-15T13:10:00.833967",
   "version": "2.6.0"
  }
 },
 "nbformat": 4,
 "nbformat_minor": 5
}