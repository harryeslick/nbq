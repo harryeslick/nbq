{
  "cells": [
    {
      "cell_type": "markdown",
      "metadata": {},
      "source": [
        "# Demo notebook for nbq\\n",
        "Simple test notebook that prints a few lines with delays."
      ]
    },
    {
      "cell_type": "code",
      "metadata": {},
      "execution_count": null,
      "outputs": [],
      "source": [
        "import time\\n",
        "print('demo.ipynb: start')\\n",
        "for i in range(3):\\n",
        "    print(f'step {i+1}/3')\\n",
        "    time.sleep(0.5)\\n",
        "print('demo.ipynb: done')\\n"
      ]
    }
  ],
  "metadata": {
    "kernelspec": {
      "display_name": "Python 3",
      "language": "python",
      "name": "python3"
    },
    "language_info": {
      "name": "python"
    }
  },
  "nbformat": 4,
  "nbformat_minor": 5
}
