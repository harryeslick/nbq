{
  "cells": [
    {
      "cell_type": "markdown",
      "metadata": {},
      "source": [
        "# Demo notebook for nbq\\n\n",
        "Simple test notebook that prints a few lines with delays."
      ]
    },
    {
      "cell_type": "code",
      "execution_count": null,
      "metadata": {},
      "outputs": [],
      "source": [
        "import time\\n\n",
        "print('demo.ipynb: start')\\n\n",
        "for i in range(3):\\n\n",
        "    print(f'step {i+1}/3')\\n\n",
        "    time.sleep(0.5)\\n\n",
        "print('demo.ipynb: done')\\n\n",
        "\n",
        "token=2428da6cff7e6e770a6597d24e7740c7e5b89c86f28f77aa\n",
        "http://127.0.0.1:8888/lab?token=2428da6cff7e6e770a6597d24e7740c7e5b89c86f28f77aa"
      ]
    }
  ],
  "metadata": {
    "kernelspec": {
      "display_name": "Python 3",
      "language": "python",
      "name": "python3"
    },
    "language_info": {
      "name": "python"
    }
  },
  "nbformat": 4,
  "nbformat_minor": 5
}
